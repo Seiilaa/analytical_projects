{
 "cells": [
  {
   "cell_type": "code",
   "execution_count": 1,
   "id": "a5e75dac-a952-443d-bc99-93acc311893f",
   "metadata": {},
   "outputs": [],
   "source": [
    "from bs4 import BeautifulSoup as bs\n",
    "import requests\n",
    "import pandas as pd\n",
    "import numpy as np\n",
    "\n",
    "import matplotlib.pyplot as plt\n",
    "import seaborn as sns\n",
    "sns.set_theme(style=\"dark\")\n",
    "\n",
    "\n",
    "from hh_parser import url_builder\n",
    "from hh_parser import hh_parse\n",
    "from hh_parser import get_csv"
   ]
  },
  {
   "cell_type": "code",
   "execution_count": 2,
   "id": "22e94be5-396b-4c9b-a2c4-e2e996289fe1",
   "metadata": {},
   "outputs": [],
   "source": [
    "# user-agent necessary to scrap the data\n",
    "headers1 = {'user-agent' : 'Mozilla/5.0 (Windows NT 10.0; Win64; x64) AppleWebKit/537.36 (KHTML, like Gecko) Chrome/74.0.3729.169 Safari/537.36'}"
   ]
  },
  {
   "cell_type": "code",
   "execution_count": 3,
   "id": "2085a5cb-b919-4add-b572-7774dc577199",
   "metadata": {},
   "outputs": [],
   "source": [
    "# in order for a search to work the search words should be separated by \"+\" sign\n",
    "def search_word(word):\n",
    "    word_split = word.split()\n",
    "    result = '+'.join(word_split)\n",
    "    return result"
   ]
  },
  {
   "cell_type": "code",
   "execution_count": 4,
   "id": "63ee12c8-302f-4f9a-8b21-e9d3ba94f2bb",
   "metadata": {},
   "outputs": [],
   "source": [
    "search_word = search_word('анализ данных')"
   ]
  },
  {
   "cell_type": "code",
   "execution_count": 5,
   "id": "fed34356-5dfb-4cb9-82d5-1633974d09d5",
   "metadata": {},
   "outputs": [],
   "source": [
    "# hh.ru search by the search word\n",
    "url = url_builder(area=2, search_word=search_word)"
   ]
  },
  {
   "cell_type": "code",
   "execution_count": 6,
   "id": "260a2e7d-0a66-42fa-93ec-07930e744cd7",
   "metadata": {},
   "outputs": [
    {
     "name": "stdout",
     "output_type": "stream",
     "text": [
      "13\n",
      "20\n",
      "31\n",
      "37\n",
      "47\n",
      "57\n",
      "70\n",
      "81\n",
      "94\n",
      "101\n",
      "108\n",
      "118\n",
      "129\n",
      "139\n",
      "148\n",
      "161\n",
      "162\n",
      "DONE\n"
     ]
    }
   ],
   "source": [
    "jobs = hh_parse(url, headers1, 0)"
   ]
  },
  {
   "cell_type": "code",
   "execution_count": 7,
   "id": "8fe1a83e-ccd7-416c-9d56-de9fa0e037f4",
   "metadata": {},
   "outputs": [],
   "source": [
    "get_csv(jobs)"
   ]
  },
  {
   "cell_type": "code",
   "execution_count": 8,
   "id": "cbbadc57-63b3-40ab-855f-59a502b49c16",
   "metadata": {},
   "outputs": [
    {
     "data": {
      "text/html": [
       "<div>\n",
       "<style scoped>\n",
       "    .dataframe tbody tr th:only-of-type {\n",
       "        vertical-align: middle;\n",
       "    }\n",
       "\n",
       "    .dataframe tbody tr th {\n",
       "        vertical-align: top;\n",
       "    }\n",
       "\n",
       "    .dataframe thead th {\n",
       "        text-align: right;\n",
       "    }\n",
       "</style>\n",
       "<table border=\"1\" class=\"dataframe\">\n",
       "  <thead>\n",
       "    <tr style=\"text-align: right;\">\n",
       "      <th></th>\n",
       "      <th>title</th>\n",
       "      <th>href</th>\n",
       "      <th>company</th>\n",
       "      <th>description</th>\n",
       "      <th>salary</th>\n",
       "    </tr>\n",
       "  </thead>\n",
       "  <tbody>\n",
       "    <tr>\n",
       "      <th>0</th>\n",
       "      <td>Аналитик</td>\n",
       "      <td>https://spb.hh.ru/vacancy/54869344?from=vacanc...</td>\n",
       "      <td>Точка</td>\n",
       "      <td>Помогать команде принимать решения на основе д...</td>\n",
       "      <td>до 240 000 руб.</td>\n",
       "    </tr>\n",
       "    <tr>\n",
       "      <th>1</th>\n",
       "      <td>Аналитик данных</td>\n",
       "      <td>https://spb.hh.ru/vacancy/53491771?from=vacanc...</td>\n",
       "      <td>Profilance Group (ИП Страмоусов Марк Петрович)</td>\n",
       "      <td>Составлять гипотезы для улучшения определенных...</td>\n",
       "      <td>80 000 – 90 000 руб.</td>\n",
       "    </tr>\n",
       "    <tr>\n",
       "      <th>2</th>\n",
       "      <td>Продуктовый аналитик</td>\n",
       "      <td>https://spb.hh.ru/vacancy/54869038?from=vacanc...</td>\n",
       "      <td>Siberian Wellness</td>\n",
       "      <td>...продуктовых/маркетинговых/бизнес показателе...</td>\n",
       "      <td>200 000 – 250 000 руб.</td>\n",
       "    </tr>\n",
       "    <tr>\n",
       "      <th>3</th>\n",
       "      <td>Аналитик</td>\n",
       "      <td>https://spb.hh.ru/vacancy/53483652?from=vacanc...</td>\n",
       "      <td>Важная рыба</td>\n",
       "      <td>...и анализа коммерческой отчетности по заказа...</td>\n",
       "      <td>80 000 – 120 000 руб.</td>\n",
       "    </tr>\n",
       "    <tr>\n",
       "      <th>4</th>\n",
       "      <td>Инженер по обработке данных</td>\n",
       "      <td>https://spb.hh.ru/vacancy/54896574?from=vacanc...</td>\n",
       "      <td>ООО Профискетч</td>\n",
       "      <td>Разработка моделей данных. Описание требований...</td>\n",
       "      <td>60 000 – 70 000 руб.</td>\n",
       "    </tr>\n",
       "  </tbody>\n",
       "</table>\n",
       "</div>"
      ],
      "text/plain": [
       "                         title  \\\n",
       "0                     Аналитик   \n",
       "1              Аналитик данных   \n",
       "2         Продуктовый аналитик   \n",
       "3                     Аналитик   \n",
       "4  Инженер по обработке данных   \n",
       "\n",
       "                                                href  \\\n",
       "0  https://spb.hh.ru/vacancy/54869344?from=vacanc...   \n",
       "1  https://spb.hh.ru/vacancy/53491771?from=vacanc...   \n",
       "2  https://spb.hh.ru/vacancy/54869038?from=vacanc...   \n",
       "3  https://spb.hh.ru/vacancy/53483652?from=vacanc...   \n",
       "4  https://spb.hh.ru/vacancy/54896574?from=vacanc...   \n",
       "\n",
       "                                          company  \\\n",
       "0                                           Точка   \n",
       "1  Profilance Group (ИП Страмоусов Марк Петрович)   \n",
       "2                               Siberian Wellness   \n",
       "3                                     Важная рыба   \n",
       "4                                  ООО Профискетч   \n",
       "\n",
       "                                         description                  salary  \n",
       "0  Помогать команде принимать решения на основе д...         до 240 000 руб.  \n",
       "1  Составлять гипотезы для улучшения определенных...    80 000 – 90 000 руб.  \n",
       "2  ...продуктовых/маркетинговых/бизнес показателе...  200 000 – 250 000 руб.  \n",
       "3  ...и анализа коммерческой отчетности по заказа...   80 000 – 120 000 руб.  \n",
       "4  Разработка моделей данных. Описание требований...    60 000 – 70 000 руб.  "
      ]
     },
     "execution_count": 8,
     "metadata": {},
     "output_type": "execute_result"
    }
   ],
   "source": [
    "df = pd.DataFrame(data = jobs)\n",
    "df.head()"
   ]
  },
  {
   "cell_type": "code",
   "execution_count": 9,
   "id": "03a0c610-8ce4-4d17-8879-6a700fc341f9",
   "metadata": {},
   "outputs": [
    {
     "data": {
      "text/plain": [
       "(162, 5)"
      ]
     },
     "execution_count": 9,
     "metadata": {},
     "output_type": "execute_result"
    }
   ],
   "source": [
    "df.shape"
   ]
  },
  {
   "cell_type": "markdown",
   "id": "692d5b97-061e-4ae5-a1fa-817bcf855922",
   "metadata": {},
   "source": [
    "OK, data was acquired\n",
    "\n",
    "In order to analyze the salary I need to parse this column into min and max salary borders and the currency.\n",
    "\n",
    "I will do it in a function below"
   ]
  },
  {
   "cell_type": "code",
   "execution_count": 10,
   "id": "ab18f178-6d39-4c17-8728-0d915779a0c0",
   "metadata": {},
   "outputs": [],
   "source": [
    "def salary_parse(salary):\n",
    "    split_salary = str(salary).split()[0:-4]\n",
    "    split_salary.remove('salary')\n",
    "    \n",
    "    currencies = ['руб.', 'USD', 'EUR']\n",
    "    \n",
    "    for c in currencies:\n",
    "        if c in split_salary:\n",
    "            if 'от' in split_salary:\n",
    "                split_salary.remove(c)\n",
    "                split_salary.remove('от')\n",
    "                min_salary = int(split_salary[0] + split_salary[1])\n",
    "                return pd.Series((min_salary, np.nan, c))\n",
    "\n",
    "            elif 'до' in split_salary:\n",
    "                split_salary.remove(c)\n",
    "                split_salary.remove('до')\n",
    "                max_salary = int(split_salary[0] + split_salary[1])\n",
    "                return pd.Series((np.nan, max_salary, c))\n",
    "            else:\n",
    "                split_salary.remove(c)\n",
    "                split_salary.remove('–')        \n",
    "                min_salary = int(split_salary[0] + split_salary[1])\n",
    "                max_salary = int(split_salary[2] + split_salary[3])\n",
    "                return pd.Series((min_salary, max_salary, c))"
   ]
  },
  {
   "cell_type": "code",
   "execution_count": 11,
   "id": "5b4bef51-0870-45d2-bb3c-d38691b312c7",
   "metadata": {},
   "outputs": [],
   "source": [
    "df[['min_salary', 'max_salary', 'currency']] = df[['salary']].apply(salary_parse, axis=1)"
   ]
  },
  {
   "cell_type": "code",
   "execution_count": 12,
   "id": "5a804d9e-7d49-4832-8e46-f0c84dbc03e1",
   "metadata": {},
   "outputs": [
    {
     "data": {
      "text/html": [
       "<div>\n",
       "<style scoped>\n",
       "    .dataframe tbody tr th:only-of-type {\n",
       "        vertical-align: middle;\n",
       "    }\n",
       "\n",
       "    .dataframe tbody tr th {\n",
       "        vertical-align: top;\n",
       "    }\n",
       "\n",
       "    .dataframe thead th {\n",
       "        text-align: right;\n",
       "    }\n",
       "</style>\n",
       "<table border=\"1\" class=\"dataframe\">\n",
       "  <thead>\n",
       "    <tr style=\"text-align: right;\">\n",
       "      <th></th>\n",
       "      <th>title</th>\n",
       "      <th>href</th>\n",
       "      <th>company</th>\n",
       "      <th>description</th>\n",
       "      <th>salary</th>\n",
       "      <th>min_salary</th>\n",
       "      <th>max_salary</th>\n",
       "      <th>currency</th>\n",
       "    </tr>\n",
       "  </thead>\n",
       "  <tbody>\n",
       "    <tr>\n",
       "      <th>0</th>\n",
       "      <td>Аналитик</td>\n",
       "      <td>https://spb.hh.ru/vacancy/54869344?from=vacanc...</td>\n",
       "      <td>Точка</td>\n",
       "      <td>Помогать команде принимать решения на основе д...</td>\n",
       "      <td>до 240 000 руб.</td>\n",
       "      <td>NaN</td>\n",
       "      <td>240000.0</td>\n",
       "      <td>руб.</td>\n",
       "    </tr>\n",
       "    <tr>\n",
       "      <th>1</th>\n",
       "      <td>Аналитик данных</td>\n",
       "      <td>https://spb.hh.ru/vacancy/53491771?from=vacanc...</td>\n",
       "      <td>Profilance Group (ИП Страмоусов Марк Петрович)</td>\n",
       "      <td>Составлять гипотезы для улучшения определенных...</td>\n",
       "      <td>80 000 – 90 000 руб.</td>\n",
       "      <td>80000.0</td>\n",
       "      <td>90000.0</td>\n",
       "      <td>руб.</td>\n",
       "    </tr>\n",
       "    <tr>\n",
       "      <th>2</th>\n",
       "      <td>Продуктовый аналитик</td>\n",
       "      <td>https://spb.hh.ru/vacancy/54869038?from=vacanc...</td>\n",
       "      <td>Siberian Wellness</td>\n",
       "      <td>...продуктовых/маркетинговых/бизнес показателе...</td>\n",
       "      <td>200 000 – 250 000 руб.</td>\n",
       "      <td>200000.0</td>\n",
       "      <td>250000.0</td>\n",
       "      <td>руб.</td>\n",
       "    </tr>\n",
       "    <tr>\n",
       "      <th>3</th>\n",
       "      <td>Аналитик</td>\n",
       "      <td>https://spb.hh.ru/vacancy/53483652?from=vacanc...</td>\n",
       "      <td>Важная рыба</td>\n",
       "      <td>...и анализа коммерческой отчетности по заказа...</td>\n",
       "      <td>80 000 – 120 000 руб.</td>\n",
       "      <td>80000.0</td>\n",
       "      <td>120000.0</td>\n",
       "      <td>руб.</td>\n",
       "    </tr>\n",
       "    <tr>\n",
       "      <th>4</th>\n",
       "      <td>Инженер по обработке данных</td>\n",
       "      <td>https://spb.hh.ru/vacancy/54896574?from=vacanc...</td>\n",
       "      <td>ООО Профискетч</td>\n",
       "      <td>Разработка моделей данных. Описание требований...</td>\n",
       "      <td>60 000 – 70 000 руб.</td>\n",
       "      <td>60000.0</td>\n",
       "      <td>70000.0</td>\n",
       "      <td>руб.</td>\n",
       "    </tr>\n",
       "  </tbody>\n",
       "</table>\n",
       "</div>"
      ],
      "text/plain": [
       "                         title  \\\n",
       "0                     Аналитик   \n",
       "1              Аналитик данных   \n",
       "2         Продуктовый аналитик   \n",
       "3                     Аналитик   \n",
       "4  Инженер по обработке данных   \n",
       "\n",
       "                                                href  \\\n",
       "0  https://spb.hh.ru/vacancy/54869344?from=vacanc...   \n",
       "1  https://spb.hh.ru/vacancy/53491771?from=vacanc...   \n",
       "2  https://spb.hh.ru/vacancy/54869038?from=vacanc...   \n",
       "3  https://spb.hh.ru/vacancy/53483652?from=vacanc...   \n",
       "4  https://spb.hh.ru/vacancy/54896574?from=vacanc...   \n",
       "\n",
       "                                          company  \\\n",
       "0                                           Точка   \n",
       "1  Profilance Group (ИП Страмоусов Марк Петрович)   \n",
       "2                               Siberian Wellness   \n",
       "3                                     Важная рыба   \n",
       "4                                  ООО Профискетч   \n",
       "\n",
       "                                         description                  salary  \\\n",
       "0  Помогать команде принимать решения на основе д...         до 240 000 руб.   \n",
       "1  Составлять гипотезы для улучшения определенных...    80 000 – 90 000 руб.   \n",
       "2  ...продуктовых/маркетинговых/бизнес показателе...  200 000 – 250 000 руб.   \n",
       "3  ...и анализа коммерческой отчетности по заказа...   80 000 – 120 000 руб.   \n",
       "4  Разработка моделей данных. Описание требований...    60 000 – 70 000 руб.   \n",
       "\n",
       "   min_salary  max_salary currency  \n",
       "0         NaN    240000.0     руб.  \n",
       "1     80000.0     90000.0     руб.  \n",
       "2    200000.0    250000.0     руб.  \n",
       "3     80000.0    120000.0     руб.  \n",
       "4     60000.0     70000.0     руб.  "
      ]
     },
     "execution_count": 12,
     "metadata": {},
     "output_type": "execute_result"
    }
   ],
   "source": [
    "df.head()"
   ]
  },
  {
   "cell_type": "markdown",
   "id": "0f5572d1-fcfc-4977-a7ad-12da5e12756e",
   "metadata": {},
   "source": [
    "Now I want to know how many salaries in each currency do I have.\n",
    "\n",
    "I'll write a function to get this data"
   ]
  },
  {
   "cell_type": "code",
   "execution_count": 13,
   "id": "1151425c-5fa6-4dd4-8e39-ff0e24b64375",
   "metadata": {},
   "outputs": [],
   "source": [
    "def currency_split(df, chart=False):\n",
    "    currencies = df['currency'].unique()\n",
    "    for c in currencies:\n",
    "        offers_number = df[df['currency']==c].shape[0]\n",
    "        print('Number of positions with the salary in '+c+ ' — '+ str(offers_number))\n",
    "        \n",
    "    if chart is True:\n",
    "        print()\n",
    "        ax = sns.barplot(data = df.groupby('currency').count().title.reset_index(), x='currency', y = 'title')\n",
    "        ax.set_ylabel('Positions')\n",
    "        plt.title('How many salaries in each currency are presented in the dataset', fontsize=15)"
   ]
  },
  {
   "cell_type": "code",
   "execution_count": 14,
   "id": "b04c6eb8-7708-470d-a9f1-0ea1b61e7a86",
   "metadata": {},
   "outputs": [
    {
     "name": "stdout",
     "output_type": "stream",
     "text": [
      "Number of positions with the salary in руб. — 161\n",
      "Number of positions with the salary in EUR — 1\n",
      "\n"
     ]
    },
    {
     "data": {
      "image/png": "[encoded data removed]",
      "text/plain": [
       "<Figure size 432x288 with 1 Axes>"
      ]
     },
     "metadata": {},
     "output_type": "display_data"
    }
   ],
   "source": [
    "currency_split(df, chart=True)"
   ]
  },
  {
   "cell_type": "markdown",
   "id": "d81d7fc6-95fb-4913-a737-3fcb684cbbfe",
   "metadata": {},
   "source": [
    "I notice that not all positions mentioned both min and max salary borders.\n",
    "\n",
    "Let's take a closer look to understand how the IT recruiters usually specify expected salaries."
   ]
  },
  {
   "cell_type": "code",
   "execution_count": 15,
   "id": "0278474b-e0dc-4971-8b47-85d189074330",
   "metadata": {},
   "outputs": [],
   "source": [
    "def min_max_borders_check(df, chart=False):\n",
    "    both_borders = df.dropna().shape[0]\n",
    "    lower_border = df[df['max_salary'].isna()].shape[0]\n",
    "    upper_border = df[df['min_salary'].isna()].shape[0]\n",
    "    print('Number of positions with both min and max borders:', both_borders)\n",
    "    print('Number of positions with only min salary:', lower_border)\n",
    "    print('Number of positions with only max salary:', upper_border)\n",
    "\n",
    "    if chart is True:\n",
    "        data_dict = {'Both borders': [both_borders], 'Only min border': [lower_border], 'Only max border': [upper_border]}\n",
    "        data = pd.DataFrame.from_dict(data_dict, orient='index').reset_index()\n",
    "        \n",
    "        print()\n",
    "        ax = sns.barplot(data = data, x='index', y = 0)\n",
    "        ax.set_xlabel('What border is included in the position description')\n",
    "        ax.set_ylabel('Positions')\n",
    "        plt.title('Positions based on the min and max salary borders in the description', fontsize=15)"
   ]
  },
  {
   "cell_type": "markdown",
   "id": "301a8c16-24d6-4a0e-9195-d707ccdb4d77",
   "metadata": {},
   "source": [
    "I believe that rubble and USD/EUR positions should be analyzed separately, thus I will only focus on RUB positions right now"
   ]
  },
  {
   "cell_type": "code",
   "execution_count": 16,
   "id": "88aeef8a-240b-4a83-a097-defccfd47b42",
   "metadata": {},
   "outputs": [],
   "source": [
    "df_rub = df[df['currency'] == 'руб.']"
   ]
  },
  {
   "cell_type": "code",
   "execution_count": 17,
   "id": "7491e6a3-6dc3-4b3d-b832-f7c2d7044d5c",
   "metadata": {},
   "outputs": [
    {
     "name": "stdout",
     "output_type": "stream",
     "text": [
      "Number of positions with both min and max borders: 76\n",
      "Number of positions with only min salary: 70\n",
      "Number of positions with only max salary: 15\n",
      "\n"
     ]
    },
    {
     "data": {
      "image/png": "[encoded data removed]",
      "text/plain": [
       "<Figure size 432x288 with 1 Axes>"
      ]
     },
     "metadata": {},
     "output_type": "display_data"
    }
   ],
   "source": [
    "min_max_borders_check(df_rub, chart=True)"
   ]
  },
  {
   "cell_type": "markdown",
   "id": "f82129cd-aaf7-451a-bd15-c9e87ec60bcc",
   "metadata": {},
   "source": [
    "Here are some examples of positions of all 3 types"
   ]
  },
  {
   "cell_type": "code",
   "execution_count": 18,
   "id": "dd7dfc6a-2b1c-47c1-b980-af6c6448bb9c",
   "metadata": {},
   "outputs": [
    {
     "data": {
      "text/html": [
       "<div>\n",
       "<style scoped>\n",
       "    .dataframe tbody tr th:only-of-type {\n",
       "        vertical-align: middle;\n",
       "    }\n",
       "\n",
       "    .dataframe tbody tr th {\n",
       "        vertical-align: top;\n",
       "    }\n",
       "\n",
       "    .dataframe thead th {\n",
       "        text-align: right;\n",
       "    }\n",
       "</style>\n",
       "<table border=\"1\" class=\"dataframe\">\n",
       "  <thead>\n",
       "    <tr style=\"text-align: right;\">\n",
       "      <th></th>\n",
       "      <th>title</th>\n",
       "      <th>href</th>\n",
       "      <th>company</th>\n",
       "      <th>description</th>\n",
       "      <th>salary</th>\n",
       "      <th>min_salary</th>\n",
       "      <th>max_salary</th>\n",
       "      <th>currency</th>\n",
       "    </tr>\n",
       "  </thead>\n",
       "  <tbody>\n",
       "    <tr>\n",
       "      <th>1</th>\n",
       "      <td>Аналитик данных</td>\n",
       "      <td>https://spb.hh.ru/vacancy/53491771?from=vacanc...</td>\n",
       "      <td>Profilance Group (ИП Страмоусов Марк Петрович)</td>\n",
       "      <td>Составлять гипотезы для улучшения определенных...</td>\n",
       "      <td>80 000 – 90 000 руб.</td>\n",
       "      <td>80000.0</td>\n",
       "      <td>90000.0</td>\n",
       "      <td>руб.</td>\n",
       "    </tr>\n",
       "    <tr>\n",
       "      <th>2</th>\n",
       "      <td>Продуктовый аналитик</td>\n",
       "      <td>https://spb.hh.ru/vacancy/54869038?from=vacanc...</td>\n",
       "      <td>Siberian Wellness</td>\n",
       "      <td>...продуктовых/маркетинговых/бизнес показателе...</td>\n",
       "      <td>200 000 – 250 000 руб.</td>\n",
       "      <td>200000.0</td>\n",
       "      <td>250000.0</td>\n",
       "      <td>руб.</td>\n",
       "    </tr>\n",
       "    <tr>\n",
       "      <th>3</th>\n",
       "      <td>Аналитик</td>\n",
       "      <td>https://spb.hh.ru/vacancy/53483652?from=vacanc...</td>\n",
       "      <td>Важная рыба</td>\n",
       "      <td>...и анализа коммерческой отчетности по заказа...</td>\n",
       "      <td>80 000 – 120 000 руб.</td>\n",
       "      <td>80000.0</td>\n",
       "      <td>120000.0</td>\n",
       "      <td>руб.</td>\n",
       "    </tr>\n",
       "  </tbody>\n",
       "</table>\n",
       "</div>"
      ],
      "text/plain": [
       "                  title                                               href  \\\n",
       "1       Аналитик данных  https://spb.hh.ru/vacancy/53491771?from=vacanc...   \n",
       "2  Продуктовый аналитик  https://spb.hh.ru/vacancy/54869038?from=vacanc...   \n",
       "3              Аналитик  https://spb.hh.ru/vacancy/53483652?from=vacanc...   \n",
       "\n",
       "                                          company  \\\n",
       "1  Profilance Group (ИП Страмоусов Марк Петрович)   \n",
       "2                               Siberian Wellness   \n",
       "3                                     Важная рыба   \n",
       "\n",
       "                                         description                  salary  \\\n",
       "1  Составлять гипотезы для улучшения определенных...    80 000 – 90 000 руб.   \n",
       "2  ...продуктовых/маркетинговых/бизнес показателе...  200 000 – 250 000 руб.   \n",
       "3  ...и анализа коммерческой отчетности по заказа...   80 000 – 120 000 руб.   \n",
       "\n",
       "   min_salary  max_salary currency  \n",
       "1     80000.0     90000.0     руб.  \n",
       "2    200000.0    250000.0     руб.  \n",
       "3     80000.0    120000.0     руб.  "
      ]
     },
     "execution_count": 18,
     "metadata": {},
     "output_type": "execute_result"
    }
   ],
   "source": [
    "df.dropna().iloc[:3]"
   ]
  },
  {
   "cell_type": "code",
   "execution_count": 19,
   "id": "7a3b6b44-1010-4bcd-aa6b-9f9f9b6cc56e",
   "metadata": {},
   "outputs": [
    {
     "data": {
      "text/html": [
       "<div>\n",
       "<style scoped>\n",
       "    .dataframe tbody tr th:only-of-type {\n",
       "        vertical-align: middle;\n",
       "    }\n",
       "\n",
       "    .dataframe tbody tr th {\n",
       "        vertical-align: top;\n",
       "    }\n",
       "\n",
       "    .dataframe thead th {\n",
       "        text-align: right;\n",
       "    }\n",
       "</style>\n",
       "<table border=\"1\" class=\"dataframe\">\n",
       "  <thead>\n",
       "    <tr style=\"text-align: right;\">\n",
       "      <th></th>\n",
       "      <th>title</th>\n",
       "      <th>href</th>\n",
       "      <th>company</th>\n",
       "      <th>description</th>\n",
       "      <th>salary</th>\n",
       "      <th>min_salary</th>\n",
       "      <th>max_salary</th>\n",
       "      <th>currency</th>\n",
       "    </tr>\n",
       "  </thead>\n",
       "  <tbody>\n",
       "    <tr>\n",
       "      <th>5</th>\n",
       "      <td>Аналитик данных (data analyst)</td>\n",
       "      <td>https://spb.hh.ru/vacancy/54721740?from=vacanc...</td>\n",
       "      <td>ООО Финансово-правовой альянс</td>\n",
       "      <td>Работа со множеством источников данных: сбор, ...</td>\n",
       "      <td>от 120 000 руб.</td>\n",
       "      <td>120000.0</td>\n",
       "      <td>NaN</td>\n",
       "      <td>руб.</td>\n",
       "    </tr>\n",
       "    <tr>\n",
       "      <th>7</th>\n",
       "      <td>Аналитик БД/ SQL разработчик</td>\n",
       "      <td>https://spb.hh.ru/vacancy/50511711?from=vacanc...</td>\n",
       "      <td>BIV</td>\n",
       "      <td>...данных (DWH). Наращивание функциональности ...</td>\n",
       "      <td>от 140 000 руб.</td>\n",
       "      <td>140000.0</td>\n",
       "      <td>NaN</td>\n",
       "      <td>руб.</td>\n",
       "    </tr>\n",
       "    <tr>\n",
       "      <th>14</th>\n",
       "      <td>Бизнес-аналитик (финансовый и бухгалтерский учет)</td>\n",
       "      <td>https://spb.hh.ru/vacancy/54883406?from=vacanc...</td>\n",
       "      <td>Франчайзинговая розничная сеть Галамарт</td>\n",
       "      <td>Описание бизнес-функциональный требований. Раз...</td>\n",
       "      <td>от 150 000 руб.</td>\n",
       "      <td>150000.0</td>\n",
       "      <td>NaN</td>\n",
       "      <td>руб.</td>\n",
       "    </tr>\n",
       "  </tbody>\n",
       "</table>\n",
       "</div>"
      ],
      "text/plain": [
       "                                                title  \\\n",
       "5                      Аналитик данных (data analyst)   \n",
       "7                        Аналитик БД/ SQL разработчик   \n",
       "14  Бизнес-аналитик (финансовый и бухгалтерский учет)   \n",
       "\n",
       "                                                 href  \\\n",
       "5   https://spb.hh.ru/vacancy/54721740?from=vacanc...   \n",
       "7   https://spb.hh.ru/vacancy/50511711?from=vacanc...   \n",
       "14  https://spb.hh.ru/vacancy/54883406?from=vacanc...   \n",
       "\n",
       "                                    company  \\\n",
       "5             ООО Финансово-правовой альянс   \n",
       "7                                       BIV   \n",
       "14  Франчайзинговая розничная сеть Галамарт   \n",
       "\n",
       "                                          description           salary  \\\n",
       "5   Работа со множеством источников данных: сбор, ...  от 120 000 руб.   \n",
       "7   ...данных (DWH). Наращивание функциональности ...  от 140 000 руб.   \n",
       "14  Описание бизнес-функциональный требований. Раз...  от 150 000 руб.   \n",
       "\n",
       "    min_salary  max_salary currency  \n",
       "5     120000.0         NaN     руб.  \n",
       "7     140000.0         NaN     руб.  \n",
       "14    150000.0         NaN     руб.  "
      ]
     },
     "execution_count": 19,
     "metadata": {},
     "output_type": "execute_result"
    }
   ],
   "source": [
    "df[df['max_salary'].isna()].iloc[:3]"
   ]
  },
  {
   "cell_type": "code",
   "execution_count": 20,
   "id": "f190b25a-f583-43d9-a773-d42c567cbd80",
   "metadata": {},
   "outputs": [
    {
     "data": {
      "text/html": [
       "<div>\n",
       "<style scoped>\n",
       "    .dataframe tbody tr th:only-of-type {\n",
       "        vertical-align: middle;\n",
       "    }\n",
       "\n",
       "    .dataframe tbody tr th {\n",
       "        vertical-align: top;\n",
       "    }\n",
       "\n",
       "    .dataframe thead th {\n",
       "        text-align: right;\n",
       "    }\n",
       "</style>\n",
       "<table border=\"1\" class=\"dataframe\">\n",
       "  <thead>\n",
       "    <tr style=\"text-align: right;\">\n",
       "      <th></th>\n",
       "      <th>title</th>\n",
       "      <th>href</th>\n",
       "      <th>company</th>\n",
       "      <th>description</th>\n",
       "      <th>salary</th>\n",
       "      <th>min_salary</th>\n",
       "      <th>max_salary</th>\n",
       "      <th>currency</th>\n",
       "    </tr>\n",
       "  </thead>\n",
       "  <tbody>\n",
       "    <tr>\n",
       "      <th>0</th>\n",
       "      <td>Аналитик</td>\n",
       "      <td>https://spb.hh.ru/vacancy/54869344?from=vacanc...</td>\n",
       "      <td>Точка</td>\n",
       "      <td>Помогать команде принимать решения на основе д...</td>\n",
       "      <td>до 240 000 руб.</td>\n",
       "      <td>NaN</td>\n",
       "      <td>240000.0</td>\n",
       "      <td>руб.</td>\n",
       "    </tr>\n",
       "    <tr>\n",
       "      <th>9</th>\n",
       "      <td>Старший аналитик</td>\n",
       "      <td>https://spb.hh.ru/vacancy/54927892?from=vacanc...</td>\n",
       "      <td>РОСЭЛ</td>\n",
       "      <td>Расчет показателей на основе анализа статистик...</td>\n",
       "      <td>до 90 000 руб.</td>\n",
       "      <td>NaN</td>\n",
       "      <td>90000.0</td>\n",
       "      <td>руб.</td>\n",
       "    </tr>\n",
       "    <tr>\n",
       "      <th>15</th>\n",
       "      <td>Системный аналитик</td>\n",
       "      <td>https://spb.hh.ru/vacancy/54782926?from=vacanc...</td>\n",
       "      <td>Enjoypro</td>\n",
       "      <td>Система для автоматизация, расчета налоговых р...</td>\n",
       "      <td>до 180 000 руб.</td>\n",
       "      <td>NaN</td>\n",
       "      <td>180000.0</td>\n",
       "      <td>руб.</td>\n",
       "    </tr>\n",
       "  </tbody>\n",
       "</table>\n",
       "</div>"
      ],
      "text/plain": [
       "                 title                                               href  \\\n",
       "0             Аналитик  https://spb.hh.ru/vacancy/54869344?from=vacanc...   \n",
       "9     Старший аналитик  https://spb.hh.ru/vacancy/54927892?from=vacanc...   \n",
       "15  Системный аналитик  https://spb.hh.ru/vacancy/54782926?from=vacanc...   \n",
       "\n",
       "     company                                        description  \\\n",
       "0      Точка  Помогать команде принимать решения на основе д...   \n",
       "9      РОСЭЛ  Расчет показателей на основе анализа статистик...   \n",
       "15  Enjoypro  Система для автоматизация, расчета налоговых р...   \n",
       "\n",
       "             salary  min_salary  max_salary currency  \n",
       "0   до 240 000 руб.         NaN    240000.0     руб.  \n",
       "9    до 90 000 руб.         NaN     90000.0     руб.  \n",
       "15  до 180 000 руб.         NaN    180000.0     руб.  "
      ]
     },
     "execution_count": 20,
     "metadata": {},
     "output_type": "execute_result"
    }
   ],
   "source": [
    "df[df['min_salary'].isna()].iloc[:3]"
   ]
  },
  {
   "cell_type": "markdown",
   "id": "3fdf3c53-d97d-46af-9b3e-58fbc484dfe0",
   "metadata": {},
   "source": [
    "OK, let's focus now on the salaries."
   ]
  },
  {
   "cell_type": "code",
   "execution_count": 21,
   "id": "dd2c4a8f-7966-43ca-8c88-8aeb9770cf66",
   "metadata": {},
   "outputs": [
    {
     "name": "stdout",
     "output_type": "stream",
     "text": [
      "Mean min salary is 81351 rub\n",
      "Mean max salary is 119085 rub\n"
     ]
    }
   ],
   "source": [
    "print('Mean min salary is', round(df_rub['min_salary'].mean()), 'rub')\n",
    "print('Mean max salary is', round(df_rub['max_salary'].mean()), 'rub')"
   ]
  },
  {
   "cell_type": "markdown",
   "id": "8a22a58c-9a8c-44d7-a905-d2dbd48c141f",
   "metadata": {},
   "source": [
    "Let's vizualize the salaries borders distributions"
   ]
  },
  {
   "cell_type": "code",
   "execution_count": 22,
   "id": "dd274787-6369-4403-8e30-0eff80770a5b",
   "metadata": {},
   "outputs": [
    {
     "data": {
      "image/png": "[encoded data removed]",
      "text/plain": [
       "<Figure size 720x432 with 1 Axes>"
      ]
     },
     "metadata": {},
     "output_type": "display_data"
    }
   ],
   "source": [
    "# min salary distributions\n",
    "mean = df_rub['min_salary'].mean()\n",
    "median = df_rub['min_salary'].median()\n",
    "\n",
    "fig, ax = plt.subplots(figsize = (10,6))\n",
    "ax = sns.histplot(data=df['min_salary'], bins=20)\n",
    "ax.axvline(mean, color='r', linestyle='--', label=\"Mean\")\n",
    "ax.axvline(median, color='g', linestyle='-', label=\"Median\")\n",
    "\n",
    "ax.set_xticks(range(0, 600000, 50000))\n",
    "\n",
    "\n",
    "ax.legend()\n",
    "plt.title('Bottom salary border distribution', fontsize=15)\n",
    "ax.set_xlabel('Min salary')\n",
    "ax.set_ylabel('Positions')\n",
    "plt.show()"
   ]
  },
  {
   "cell_type": "code",
   "execution_count": 23,
   "id": "d781d67a-6506-418f-b1f0-2348715305a9",
   "metadata": {},
   "outputs": [
    {
     "data": {
      "image/png": "[encoded data removed]",
      "text/plain": [
       "<Figure size 720x432 with 1 Axes>"
      ]
     },
     "metadata": {},
     "output_type": "display_data"
    }
   ],
   "source": [
    "# Max salaries distrubtions\n",
    "mean = df_rub['max_salary'].mean()\n",
    "median = df_rub['max_salary'].median()\n",
    "\n",
    "\n",
    "fig, ax = plt.subplots(figsize = (10,6))\n",
    "ax = sns.histplot(data=df['max_salary'], bins=20)\n",
    "ax.axvline(mean, color='r', linestyle='--', label=\"Mean\")\n",
    "ax.axvline(median, color='g', linestyle='-', label=\"Median\")\n",
    "\n",
    "ax.set_xticks(range(0, int(df_rub['max_salary'].max()), 100000))\n",
    "\n",
    "ax.legend()\n",
    "plt.title('Upper salary border distribution', fontsize=15)\n",
    "ax.set_xlabel('Max salary')\n",
    "ax.set_ylabel('Positions')\n",
    "plt.show()"
   ]
  },
  {
   "cell_type": "markdown",
   "id": "67ab7752-0ea6-4b93-9110-7575aa419f41",
   "metadata": {},
   "source": [
    "Based on the charts above we can see that most of the salary borders are located on the left side of the chart — unusually high salary borders look like outliers.\n",
    "\n",
    "Interesting to note that on average min and max borders lie at around 90k — 110k mark"
   ]
  },
  {
   "cell_type": "markdown",
   "id": "f7ccc239-3b3f-40e5-89cd-c79876064491",
   "metadata": {},
   "source": [
    "I want to calculate the mean and the median salary of the Analytis specialists. But in order to do it I need to know both bottom and upper borders of their salaries.\n",
    "\n",
    "About half of positions are missing this data. In order to get it I will calculate how on average min salary is different from max salary.\n",
    "\n",
    "Using this coefficient I will be able to approximate missing borders for the rest of the positions."
   ]
  },
  {
   "cell_type": "code",
   "execution_count": 24,
   "id": "850916e2-0400-4881-bfc6-12e91ed6181c",
   "metadata": {},
   "outputs": [],
   "source": [
    "# df contains only rub jobs with both salary borders\n",
    "df_rub_drop = df_rub.dropna()"
   ]
  },
  {
   "cell_type": "code",
   "execution_count": 25,
   "id": "ec4a6b6f-736f-4496-a4ed-6ee9a7523295",
   "metadata": {},
   "outputs": [
    {
     "data": {
      "text/html": [
       "<div>\n",
       "<style scoped>\n",
       "    .dataframe tbody tr th:only-of-type {\n",
       "        vertical-align: middle;\n",
       "    }\n",
       "\n",
       "    .dataframe tbody tr th {\n",
       "        vertical-align: top;\n",
       "    }\n",
       "\n",
       "    .dataframe thead th {\n",
       "        text-align: right;\n",
       "    }\n",
       "</style>\n",
       "<table border=\"1\" class=\"dataframe\">\n",
       "  <thead>\n",
       "    <tr style=\"text-align: right;\">\n",
       "      <th></th>\n",
       "      <th>title</th>\n",
       "      <th>href</th>\n",
       "      <th>company</th>\n",
       "      <th>description</th>\n",
       "      <th>salary</th>\n",
       "      <th>min_salary</th>\n",
       "      <th>max_salary</th>\n",
       "      <th>currency</th>\n",
       "    </tr>\n",
       "  </thead>\n",
       "  <tbody>\n",
       "    <tr>\n",
       "      <th>1</th>\n",
       "      <td>Аналитик данных</td>\n",
       "      <td>https://spb.hh.ru/vacancy/53491771?from=vacanc...</td>\n",
       "      <td>Profilance Group (ИП Страмоусов Марк Петрович)</td>\n",
       "      <td>Составлять гипотезы для улучшения определенных...</td>\n",
       "      <td>80 000 – 90 000 руб.</td>\n",
       "      <td>80000.0</td>\n",
       "      <td>90000.0</td>\n",
       "      <td>руб.</td>\n",
       "    </tr>\n",
       "    <tr>\n",
       "      <th>2</th>\n",
       "      <td>Продуктовый аналитик</td>\n",
       "      <td>https://spb.hh.ru/vacancy/54869038?from=vacanc...</td>\n",
       "      <td>Siberian Wellness</td>\n",
       "      <td>...продуктовых/маркетинговых/бизнес показателе...</td>\n",
       "      <td>200 000 – 250 000 руб.</td>\n",
       "      <td>200000.0</td>\n",
       "      <td>250000.0</td>\n",
       "      <td>руб.</td>\n",
       "    </tr>\n",
       "    <tr>\n",
       "      <th>3</th>\n",
       "      <td>Аналитик</td>\n",
       "      <td>https://spb.hh.ru/vacancy/53483652?from=vacanc...</td>\n",
       "      <td>Важная рыба</td>\n",
       "      <td>...и анализа коммерческой отчетности по заказа...</td>\n",
       "      <td>80 000 – 120 000 руб.</td>\n",
       "      <td>80000.0</td>\n",
       "      <td>120000.0</td>\n",
       "      <td>руб.</td>\n",
       "    </tr>\n",
       "    <tr>\n",
       "      <th>4</th>\n",
       "      <td>Инженер по обработке данных</td>\n",
       "      <td>https://spb.hh.ru/vacancy/54896574?from=vacanc...</td>\n",
       "      <td>ООО Профискетч</td>\n",
       "      <td>Разработка моделей данных. Описание требований...</td>\n",
       "      <td>60 000 – 70 000 руб.</td>\n",
       "      <td>60000.0</td>\n",
       "      <td>70000.0</td>\n",
       "      <td>руб.</td>\n",
       "    </tr>\n",
       "    <tr>\n",
       "      <th>6</th>\n",
       "      <td>Аналитик данных</td>\n",
       "      <td>https://spb.hh.ru/vacancy/54724344?from=vacanc...</td>\n",
       "      <td>ООО СРО-Экспертиза</td>\n",
       "      <td>Составлять гипотезы для улучшения определенных...</td>\n",
       "      <td>60 000 – 70 000 руб.</td>\n",
       "      <td>60000.0</td>\n",
       "      <td>70000.0</td>\n",
       "      <td>руб.</td>\n",
       "    </tr>\n",
       "  </tbody>\n",
       "</table>\n",
       "</div>"
      ],
      "text/plain": [
       "                         title  \\\n",
       "1              Аналитик данных   \n",
       "2         Продуктовый аналитик   \n",
       "3                     Аналитик   \n",
       "4  Инженер по обработке данных   \n",
       "6              Аналитик данных   \n",
       "\n",
       "                                                href  \\\n",
       "1  https://spb.hh.ru/vacancy/53491771?from=vacanc...   \n",
       "2  https://spb.hh.ru/vacancy/54869038?from=vacanc...   \n",
       "3  https://spb.hh.ru/vacancy/53483652?from=vacanc...   \n",
       "4  https://spb.hh.ru/vacancy/54896574?from=vacanc...   \n",
       "6  https://spb.hh.ru/vacancy/54724344?from=vacanc...   \n",
       "\n",
       "                                          company  \\\n",
       "1  Profilance Group (ИП Страмоусов Марк Петрович)   \n",
       "2                               Siberian Wellness   \n",
       "3                                     Важная рыба   \n",
       "4                                  ООО Профискетч   \n",
       "6                              ООО СРО-Экспертиза   \n",
       "\n",
       "                                         description                  salary  \\\n",
       "1  Составлять гипотезы для улучшения определенных...    80 000 – 90 000 руб.   \n",
       "2  ...продуктовых/маркетинговых/бизнес показателе...  200 000 – 250 000 руб.   \n",
       "3  ...и анализа коммерческой отчетности по заказа...   80 000 – 120 000 руб.   \n",
       "4  Разработка моделей данных. Описание требований...    60 000 – 70 000 руб.   \n",
       "6  Составлять гипотезы для улучшения определенных...    60 000 – 70 000 руб.   \n",
       "\n",
       "   min_salary  max_salary currency  \n",
       "1     80000.0     90000.0     руб.  \n",
       "2    200000.0    250000.0     руб.  \n",
       "3     80000.0    120000.0     руб.  \n",
       "4     60000.0     70000.0     руб.  \n",
       "6     60000.0     70000.0     руб.  "
      ]
     },
     "execution_count": 25,
     "metadata": {},
     "output_type": "execute_result"
    }
   ],
   "source": [
    "df_rub_drop.head()"
   ]
  },
  {
   "cell_type": "code",
   "execution_count": 26,
   "id": "8f8fd07c-f2b8-4d57-a872-0e9fdf3e13bc",
   "metadata": {},
   "outputs": [
    {
     "name": "stdout",
     "output_type": "stream",
     "text": [
      "On average minimum salary is 27.0% less compared to the max salary\n"
     ]
    }
   ],
   "source": [
    "salary_diff = (df_rub_drop['max_salary'] - df_rub_drop['min_salary']) / df_rub_drop['max_salary']\n",
    "\n",
    "salary_diff_mean = round(salary_diff.mean(), 3)\n",
    "print('On average minimum salary is {:.1%} less compared to the max salary'.format(salary_diff_mean))"
   ]
  },
  {
   "cell_type": "markdown",
   "id": "85695559-559b-4033-a0fd-b530a5c0b312",
   "metadata": {},
   "source": [
    "All right, let's use this knowledge to fill in the missing values with synthetic data"
   ]
  },
  {
   "cell_type": "code",
   "execution_count": 27,
   "id": "6560b0ca-53de-48c0-8932-5f65e440542a",
   "metadata": {},
   "outputs": [],
   "source": [
    "# a separate dataframe with synthetic salary data\n",
    "df_rub_synth = df_rub.copy()"
   ]
  },
  {
   "cell_type": "code",
   "execution_count": 28,
   "id": "5914bee7-33ae-4bd5-ab48-8197c4329c9e",
   "metadata": {},
   "outputs": [],
   "source": [
    "# for data with missing max salary fill in the max salary using formula \n",
    "# max_salary = min_salary / 1-  salary_diff_mean\n",
    "\n",
    "df_rub_synth.loc[df_rub_synth['max_salary'].isna(), 'max_salary'] = \\\n",
    "df_rub_synth[df_rub_synth['max_salary'].isna()]['min_salary'] / (1-salary_diff_mean)"
   ]
  },
  {
   "cell_type": "code",
   "execution_count": 29,
   "id": "21d2c64e-e215-4240-8049-abf975943fa9",
   "metadata": {},
   "outputs": [],
   "source": [
    "# for missing min values formula will be\n",
    "# min_salary = max_salary * (1-salary_diff_mean)\n",
    "\n",
    "df_rub_synth.loc[df_rub_synth['min_salary'].isna(), 'min_salary'] = \\\n",
    "df_rub_synth[df_rub_synth['min_salary'].isna()]['max_salary'] * (1-salary_diff_mean)"
   ]
  },
  {
   "cell_type": "code",
   "execution_count": 30,
   "id": "5ff9b7a6-1b2e-42ff-bc40-4addd502bfdc",
   "metadata": {},
   "outputs": [],
   "source": [
    "#round the numbers\n",
    "\n",
    "df_rub_synth['max_salary'] = df_rub_synth['max_salary'].round()\n",
    "df_rub_synth['min_salary'] = df_rub_synth['min_salary'].round()"
   ]
  },
  {
   "cell_type": "markdown",
   "id": "d4fba484-5e1d-4291-be0b-b68996a8555c",
   "metadata": {},
   "source": [
    "Let's double check that all missing values were filled in and that the mean difference is correct."
   ]
  },
  {
   "cell_type": "code",
   "execution_count": 31,
   "id": "4e43a0ac-d362-48a6-9807-259237d61818",
   "metadata": {},
   "outputs": [
    {
     "name": "stdout",
     "output_type": "stream",
     "text": [
      "Number of positions with both min and max borders: 161\n",
      "Number of positions with only min salary: 0\n",
      "Number of positions with only max salary: 0\n"
     ]
    }
   ],
   "source": [
    "min_max_borders_check(df_rub_synth)"
   ]
  },
  {
   "cell_type": "code",
   "execution_count": 32,
   "id": "c65614c8-2e50-4f09-951d-5b732e6a3e16",
   "metadata": {},
   "outputs": [
    {
     "name": "stdout",
     "output_type": "stream",
     "text": [
      "On average minimum salary is 27.0% less compared to max salary\n"
     ]
    }
   ],
   "source": [
    "salary_diff_synth = (df_rub_synth['max_salary'] - df_rub_synth['min_salary']) / df_rub_synth['max_salary']\n",
    "\n",
    "salary_diff_synth_mean = round(salary_diff_synth.mean(), 3)\n",
    "print('On average minimum salary is {:.1%} less compared to max salary'.format(salary_diff_synth_mean))"
   ]
  },
  {
   "cell_type": "code",
   "execution_count": 33,
   "id": "49c8eef6-4968-4701-8642-eadff221cdf6",
   "metadata": {},
   "outputs": [
    {
     "data": {
      "text/html": [
       "<div>\n",
       "<style scoped>\n",
       "    .dataframe tbody tr th:only-of-type {\n",
       "        vertical-align: middle;\n",
       "    }\n",
       "\n",
       "    .dataframe tbody tr th {\n",
       "        vertical-align: top;\n",
       "    }\n",
       "\n",
       "    .dataframe thead th {\n",
       "        text-align: right;\n",
       "    }\n",
       "</style>\n",
       "<table border=\"1\" class=\"dataframe\">\n",
       "  <thead>\n",
       "    <tr style=\"text-align: right;\">\n",
       "      <th></th>\n",
       "      <th>title</th>\n",
       "      <th>href</th>\n",
       "      <th>company</th>\n",
       "      <th>description</th>\n",
       "      <th>salary</th>\n",
       "      <th>min_salary</th>\n",
       "      <th>max_salary</th>\n",
       "      <th>currency</th>\n",
       "    </tr>\n",
       "  </thead>\n",
       "  <tbody>\n",
       "    <tr>\n",
       "      <th>0</th>\n",
       "      <td>Аналитик</td>\n",
       "      <td>https://spb.hh.ru/vacancy/54869344?from=vacanc...</td>\n",
       "      <td>Точка</td>\n",
       "      <td>Помогать команде принимать решения на основе д...</td>\n",
       "      <td>до 240 000 руб.</td>\n",
       "      <td>175200.0</td>\n",
       "      <td>240000.0</td>\n",
       "      <td>руб.</td>\n",
       "    </tr>\n",
       "    <tr>\n",
       "      <th>1</th>\n",
       "      <td>Аналитик данных</td>\n",
       "      <td>https://spb.hh.ru/vacancy/53491771?from=vacanc...</td>\n",
       "      <td>Profilance Group (ИП Страмоусов Марк Петрович)</td>\n",
       "      <td>Составлять гипотезы для улучшения определенных...</td>\n",
       "      <td>80 000 – 90 000 руб.</td>\n",
       "      <td>80000.0</td>\n",
       "      <td>90000.0</td>\n",
       "      <td>руб.</td>\n",
       "    </tr>\n",
       "    <tr>\n",
       "      <th>2</th>\n",
       "      <td>Продуктовый аналитик</td>\n",
       "      <td>https://spb.hh.ru/vacancy/54869038?from=vacanc...</td>\n",
       "      <td>Siberian Wellness</td>\n",
       "      <td>...продуктовых/маркетинговых/бизнес показателе...</td>\n",
       "      <td>200 000 – 250 000 руб.</td>\n",
       "      <td>200000.0</td>\n",
       "      <td>250000.0</td>\n",
       "      <td>руб.</td>\n",
       "    </tr>\n",
       "    <tr>\n",
       "      <th>3</th>\n",
       "      <td>Аналитик</td>\n",
       "      <td>https://spb.hh.ru/vacancy/53483652?from=vacanc...</td>\n",
       "      <td>Важная рыба</td>\n",
       "      <td>...и анализа коммерческой отчетности по заказа...</td>\n",
       "      <td>80 000 – 120 000 руб.</td>\n",
       "      <td>80000.0</td>\n",
       "      <td>120000.0</td>\n",
       "      <td>руб.</td>\n",
       "    </tr>\n",
       "    <tr>\n",
       "      <th>4</th>\n",
       "      <td>Инженер по обработке данных</td>\n",
       "      <td>https://spb.hh.ru/vacancy/54896574?from=vacanc...</td>\n",
       "      <td>ООО Профискетч</td>\n",
       "      <td>Разработка моделей данных. Описание требований...</td>\n",
       "      <td>60 000 – 70 000 руб.</td>\n",
       "      <td>60000.0</td>\n",
       "      <td>70000.0</td>\n",
       "      <td>руб.</td>\n",
       "    </tr>\n",
       "  </tbody>\n",
       "</table>\n",
       "</div>"
      ],
      "text/plain": [
       "                         title  \\\n",
       "0                     Аналитик   \n",
       "1              Аналитик данных   \n",
       "2         Продуктовый аналитик   \n",
       "3                     Аналитик   \n",
       "4  Инженер по обработке данных   \n",
       "\n",
       "                                                href  \\\n",
       "0  https://spb.hh.ru/vacancy/54869344?from=vacanc...   \n",
       "1  https://spb.hh.ru/vacancy/53491771?from=vacanc...   \n",
       "2  https://spb.hh.ru/vacancy/54869038?from=vacanc...   \n",
       "3  https://spb.hh.ru/vacancy/53483652?from=vacanc...   \n",
       "4  https://spb.hh.ru/vacancy/54896574?from=vacanc...   \n",
       "\n",
       "                                          company  \\\n",
       "0                                           Точка   \n",
       "1  Profilance Group (ИП Страмоусов Марк Петрович)   \n",
       "2                               Siberian Wellness   \n",
       "3                                     Важная рыба   \n",
       "4                                  ООО Профискетч   \n",
       "\n",
       "                                         description                  salary  \\\n",
       "0  Помогать команде принимать решения на основе д...         до 240 000 руб.   \n",
       "1  Составлять гипотезы для улучшения определенных...    80 000 – 90 000 руб.   \n",
       "2  ...продуктовых/маркетинговых/бизнес показателе...  200 000 – 250 000 руб.   \n",
       "3  ...и анализа коммерческой отчетности по заказа...   80 000 – 120 000 руб.   \n",
       "4  Разработка моделей данных. Описание требований...    60 000 – 70 000 руб.   \n",
       "\n",
       "   min_salary  max_salary currency  \n",
       "0    175200.0    240000.0     руб.  \n",
       "1     80000.0     90000.0     руб.  \n",
       "2    200000.0    250000.0     руб.  \n",
       "3     80000.0    120000.0     руб.  \n",
       "4     60000.0     70000.0     руб.  "
      ]
     },
     "execution_count": 33,
     "metadata": {},
     "output_type": "execute_result"
    }
   ],
   "source": [
    "df_rub_synth.head()"
   ]
  },
  {
   "cell_type": "markdown",
   "id": "ae85ff20-10e8-44a4-9296-6b871cb06e6d",
   "metadata": {},
   "source": [
    "All right, the synthetic data is prepared.\n",
    "\n",
    "Now I can estimate the mean salary of the Data analysis jobs on hh.ru"
   ]
  },
  {
   "cell_type": "code",
   "execution_count": 34,
   "id": "d403fee8-9d46-4e47-bb0e-259f126c9789",
   "metadata": {},
   "outputs": [],
   "source": [
    "df_rub_synth['mean_salary'] = ((df_rub_synth['max_salary'] + df_rub_synth['min_salary']) / 2).round()"
   ]
  },
  {
   "cell_type": "code",
   "execution_count": 35,
   "id": "a785423d-ea42-4585-9c88-41dbe1fdd8cc",
   "metadata": {},
   "outputs": [],
   "source": [
    "def mean_salary_chart(df, chart=False):\n",
    "    mean = round(df['mean_salary'].mean())\n",
    "    median = df['mean_salary'].median()\n",
    "    Q1 = df['mean_salary'].quantile(q=0.25)\n",
    "    Q3 = df['mean_salary'].quantile(q=0.75)\n",
    "\n",
    "    print('Mean salary:', mean)\n",
    "    print('Median salary:', median)\n",
    "    print('25 percentile:', Q1)\n",
    "    print('75 percentile:', Q3)\n",
    "    print()\n",
    "    \n",
    "    if chart is True:\n",
    "        fig, ax = plt.subplots(figsize = (10,6))\n",
    "        ax = sns.histplot(data=df['mean_salary'], bins=20)\n",
    "        ax.axvline(mean, color='r', linestyle='--', label=\"Mean\", linewidth=3)\n",
    "        ax.axvline(median, color='y', linestyle='--', label=\"Median\", linewidth=3)\n",
    "        ax.axvline(Q1, color='g', linestyle='-', label=\"1-Quantile\", linewidth=3)\n",
    "        ax.axvline(Q3, color='g', linestyle='-', label=\"3-Quantile\", linewidth=3)\n",
    "\n",
    "\n",
    "        ticks = range(0, int(df['mean_salary'].max()), 50000)\n",
    "        ax.set_xticks(ticks)\n",
    "        ax.set_xticklabels(i/1000 for i in ticks)\n",
    "\n",
    "        ax.legend()\n",
    "        plt.title(str('Distribution of the salaries in the field of: '+search_word), fontsize=15)\n",
    "        ax.set_xlabel('Mean salary')\n",
    "        ax.set_ylabel('Positions')\n",
    "        plt.show()"
   ]
  },
  {
   "cell_type": "code",
   "execution_count": 36,
   "id": "1b1ad288-9b54-4be6-ab9e-9389ef072ceb",
   "metadata": {},
   "outputs": [
    {
     "name": "stdout",
     "output_type": "stream",
     "text": [
      "Mean salary: 100076\n",
      "Median salary: 82945.0\n",
      "25 percentile: 65000.0\n",
      "75 percentile: 118493.0\n",
      "\n"
     ]
    },
    {
     "data": {
      "image/png": "[encoded data removed]",
      "text/plain": [
       "<Figure size 720x432 with 1 Axes>"
      ]
     },
     "metadata": {},
     "output_type": "display_data"
    }
   ],
   "source": [
    "mean_salary_chart(df_rub_synth, chart=True)"
   ]
  }
 ],
 "metadata": {
  "kernelspec": {
   "display_name": "Python 3 (ipykernel)",
   "language": "python",
   "name": "python3"
  },
  "language_info": {
   "codemirror_mode": {
    "name": "ipython",
    "version": 3
   },
   "file_extension": ".py",
   "mimetype": "text/x-python",
   "name": "python",
   "nbconvert_exporter": "python",
   "pygments_lexer": "ipython3",
   "version": "3.10.2"
  }
 },
 "nbformat": 4,
 "nbformat_minor": 5
}
